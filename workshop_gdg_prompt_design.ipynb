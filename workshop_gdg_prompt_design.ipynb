{
  "cells": [
    {
      "cell_type": "markdown",
      "metadata": {
        "id": "JAPoU8Sm5E6e"
      },
      "source": [
        "# Prompt Design - Best Practices\n",
        "\n",
        "<table align=\"left\">\n",
        "  <td style=\"text-align: center\">\n",
        "    <a href=\"https://colab.research.google.com/github/GoogleCloudPlatform/generative-ai/blob/main/gemini/prompts/intro_prompt_design.ipynb\">\n",
        "      <img src=\"https://cloud.google.com/ml-engine/images/colab-logo-32px.png\" alt=\"Google Colaboratory logo\"><br> Open in Colab\n",
        "    </a>\n",
        "  </td>\n",
        "      "
      ]
    },
    {
      "cell_type": "markdown",
      "metadata": {
        "id": "84f0f73a0f76"
      },
      "source": [
        "| Authors |\n",
        "| --- |\n",
        "| [Polong Lin](https://github.com/polong-lin) |\n",
        "| [Karl Weinmeister](https://github.com/kweinmeister) |"
      ]
    },
    {
      "cell_type": "markdown",
      "metadata": {
        "id": "tvgnzT1CKxrO"
      },
      "source": [
        "## Overview\n",
        "\n",
        "This notebook covers the essentials of prompt engineering, including some best practices.\n",
        "\n",
        "Learn more about prompt design in the [official documentation](https://cloud.google.com/vertex-ai/docs/generative-ai/text/text-overview).\n",
        "\n",
        "In this notebook, you learn best practices around prompt engineering -- how to design prompts to improve the quality of your responses.\n",
        "\n",
        "This notebook covers the following best practices for prompt engineering:\n",
        "\n",
        "- Be concise\n",
        "- Be specific and well-defined\n",
        "- Ask one task at a time\n",
        "- Turn generative tasks into classification tasks\n",
        "- Improve response quality by including examples"
      ]
    },
    {
      "cell_type": "markdown",
      "metadata": {
        "id": "61RBz8LLbxCR"
      },
      "source": [
        "## Getting Started"
      ]
    },
    {
      "cell_type": "markdown",
      "metadata": {
        "id": "No17Cw5hgx12"
      },
      "source": [
        "### Install Google Gen AI SDK\n"
      ]
    },
    {
      "cell_type": "code",
      "execution_count": 1,
      "metadata": {
        "id": "tFy3H3aPgx12"
      },
      "outputs": [],
      "source": [
        "%pip install --upgrade --quiet google-genai"
      ]
    },
    {
      "cell_type": "markdown",
      "metadata": {
        "id": "dmWOrTJ3gx13"
      },
      "source": [
        "### Authenticate your notebook environment (Colab only)\n",
        "\n",
        "Authenticate your environment on Google Colab.\n"
      ]
    },
    {
      "cell_type": "code",
      "execution_count": 2,
      "metadata": {
        "id": "NyKGtVQjgx13"
      },
      "outputs": [],
      "source": [
        "import sys\n",
        "\n",
        "if \"google.colab\" in sys.modules:\n",
        "    from google.colab import auth\n",
        "\n",
        "    auth.authenticate_user()"
      ]
    },
    {
      "cell_type": "markdown",
      "metadata": {
        "id": "06489bd14f16"
      },
      "source": [
        "### Import libraries\n"
      ]
    },
    {
      "cell_type": "code",
      "execution_count": 3,
      "metadata": {
        "id": "154137022fb6"
      },
      "outputs": [],
      "source": [
        "from IPython.display import Markdown, display\n",
        "from google import genai\n",
        "from google.genai.types import GenerateContentConfig"
      ]
    },
    {
      "cell_type": "markdown",
      "metadata": {
        "id": "DF4l8DTdWgPY"
      },
      "source": [
        "### Set Google Cloud project information and create client\n",
        "\n",
        "To get started using Vertex AI, you must have an existing Google Cloud project and [enable the Vertex AI API](https://console.cloud.google.com/flows/enableapi?apiid=aiplatform.googleapis.com).\n",
        "\n",
        "Learn more about [setting up a project and a development environment](https://cloud.google.com/vertex-ai/docs/start/cloud-environment)."
      ]
    },
    {
      "cell_type": "code",
      "execution_count": 4,
      "metadata": {
        "id": "Nqwi-5ufWp_B"
      },
      "outputs": [],
      "source": [
        "import os\n",
        "\n",
        "PROJECT_ID = \"verdant-bond-460105-b8\"  # @param {type: \"string\", placeholder: \"[your-project-id]\", isTemplate: true}\n",
        "if not PROJECT_ID or PROJECT_ID == \"[verdant-bond-460105-b8]\":\n",
        "    PROJECT_ID = str(os.environ.get(\"GOOGLE_CLOUD_PROJECT\"))\n",
        "\n",
        "LOCATION = os.environ.get(\"GOOGLE_CLOUD_REGION\", \"us-central1\")"
      ]
    },
    {
      "cell_type": "code",
      "execution_count": 5,
      "metadata": {
        "id": "QqRWdPGmW3NJ"
      },
      "outputs": [],
      "source": [
        "client = genai.Client(vertexai=True, project=PROJECT_ID, location=LOCATION)"
      ]
    },
    {
      "cell_type": "markdown",
      "metadata": {
        "id": "OnFPpCRtXRl4"
      },
      "source": [
        "### Load model\n",
        "\n",
        "Learn more about all [Gemini models on Vertex AI](https://cloud.google.com/vertex-ai/generative-ai/docs/learn/models#gemini-models)."
      ]
    },
    {
      "cell_type": "code",
      "execution_count": 6,
      "metadata": {
        "id": "IQYu_9SvXQah"
      },
      "outputs": [],
      "source": [
        "MODEL_ID = \"gemini-2.0-flash-001\"  # @param {type: \"string\"}"
      ]
    },
    {
      "cell_type": "markdown",
      "metadata": {
        "id": "cVOtUNJ5X0PY"
      },
      "source": [
        "## Prompt engineering best practices"
      ]
    },
    {
      "cell_type": "markdown",
      "metadata": {
        "id": "uv_e0fEPX60q"
      },
      "source": [
        "Prompt engineering is all about how to design your prompts so that the response is what you were indeed hoping to see.\n",
        "\n",
        "The idea of using \"unfancy\" prompts is to minimize the noise in your prompt to reduce the possibility of the LLM misinterpreting the intent of the prompt. Below are a few guidelines on how to engineer \"unfancy\" prompts.\n",
        "\n",
        "In this section, you'll cover the following best practices when engineering prompts:\n",
        "\n",
        "* Be concise\n",
        "* Be specific, and well-defined\n",
        "* Ask one task at a time\n",
        "* Improve response quality by including examples\n",
        "* Turn generative tasks to classification tasks to improve safety"
      ]
    },
    {
      "cell_type": "markdown",
      "metadata": {
        "id": "0pY4XX0OX9_Y"
      },
      "source": [
        "### Be concise"
      ]
    },
    {
      "cell_type": "markdown",
      "metadata": {
        "id": "xlRpxyxGYA1K"
      },
      "source": [
        "🛑 Not recommended. The prompt below is unnecessarily verbose."
      ]
    },
    {
      "cell_type": "code",
      "execution_count": 7,
      "metadata": {
        "id": "YKV4G-CfXdbi",
        "colab": {
          "base_uri": "https://localhost:8080/",
          "height": 633
        },
        "outputId": "ac740963-c2da-4ffc-a0c3-ebd0dce23984"
      },
      "outputs": [
        {
          "output_type": "display_data",
          "data": {
            "text/plain": [
              "<IPython.core.display.Markdown object>"
            ],
            "text/markdown": "Here are some name ideas for a dried flower shop, playing on different aspects like longevity, artistry, nature, and the drying process itself:\n\n**Emphasizing Longevity and Permanence:**\n\n*   **Lasting Blooms:** Simple, direct, and highlights the key benefit of dried flowers.\n*   **Forever Florals:** A classic and romantic option.\n*   **The Enduring Bloom:** More sophisticated and evocative.\n*   **Preserved Petals:** Clear and descriptive.\n*   **Timeless Thistle:** Using a specific dried flower for a more unique feel.\n\n**Highlighting Artistry and Craft:**\n\n*   **The Dried Stem:** Simple, elegant and suggestive of artistic arrangements.\n*   **Dust & Bloom:** A touch rustic, suggesting the drying process and the final product.\n*   **The Still Life Bouquet:** Emphasizes the artistic quality of the arrangements.\n*   **Floral Alchemy:** Implies the transformation of fresh flowers into something lasting.\n*   **The Dried Palette:** Evokes the variety of colors and textures available.\n\n**Focusing on Nature and Earthiness:**\n\n*   **Golden Fields Florals:** Suggests the origin of the flowers and their natural beauty.\n*   **Sun-Kissed Stems:** Evokes the natural drying process.\n*   **Harvest Blooms:** Hints at seasonality and a connection to the land.\n*   **Earthen Florist:** Grounded and natural-sounding.\n*   **Wildflower Wisp:** Suggests the natural beauty of wildflowers preserved.\n\n**Unique and Playful Names:**\n\n*   **Bloom Room:** A bit retro and catchy.\n*   **The Dried Delight:** Simple, charming, and alliterative.\n*   **Petrified Petals (with a wink):** A humorous take on the drying process.\n*   **The Paper Petal:** Highlights the delicate, papery texture of dried flowers.\n*   **Dusty Rose & Co.:** Vintage-inspired and suggests a curated collection.\n\n**Tips for Choosing the Right Name:**\n\n*   **Consider your target audience:** Are you aiming for a sophisticated clientele or a more casual one?\n*   **Check for availability:** Make sure the name isn't already in use and that you can get a website domain and social media handles.\n*   **Say it out loud:** Does it roll off the tongue and sound appealing?\n*   **Get feedback:** Ask friends and family what they think.\n\nUltimately, the best name will be one that reflects your unique style and the personality of your shop!\n"
          },
          "metadata": {}
        }
      ],
      "source": [
        "prompt = \"What do you think could be a good name for a flower shop that specializes in selling bouquets of dried flowers more than fresh flowers?\"\n",
        "\n",
        "response = client.models.generate_content(model=MODEL_ID, contents=prompt)\n",
        "display(Markdown(response.text))"
      ]
    },
    {
      "cell_type": "markdown",
      "metadata": {
        "id": "YrJexRHJYnmC"
      },
      "source": [
        "✅ Recommended. The prompt below is to the point and concise."
      ]
    },
    {
      "cell_type": "code",
      "execution_count": 8,
      "metadata": {
        "id": "VHetn9lCYrXB",
        "colab": {
          "base_uri": "https://localhost:8080/",
          "height": 871
        },
        "outputId": "21f2a782-4198-42de-fd78-dd710a4c2a37"
      },
      "outputs": [
        {
          "output_type": "display_data",
          "data": {
            "text/plain": [
              "<IPython.core.display.Markdown object>"
            ],
            "text/markdown": "Okay, here are some name suggestions for a dried flower shop, playing with different angles:\n\n**Emphasizing Longevity & Timelessness:**\n\n*   Eternally Blooming\n*   Lasting Petals\n*   Timeless Blooms\n*   Forever Flora\n*   The Preserved Petal\n*   Everbloom Co.\n*   Forever Flowers\n*   Dried & Dusted\n\n**Highlighting the Natural & Rustic Aesthetic:**\n\n*   The Meadow's Keep\n*   Whispering Fields\n*   Rustic Stems\n*   The Dried Garden\n*   Wildflower Echoes\n*   Gathered Grace\n*   Prairie Petals\n*   Sunbaked Blooms\n\n**More Modern & Stylish:**\n\n*   The Dried Bloomery\n*   Petrified Flora\n*   Dried & Defined\n*   Bloom Haus\n*   The Still Life Stems\n*   Dry Goods Floral\n*   Still Blooms\n*   Rooted & Preserved\n\n**Playful & Creative:**\n\n*   The Flower Alchemist\n*   Petal Potions\n*   The Bloom Smith\n*   The Dried Bouquet Bar\n*   Once Upon a Bloom\n\n**Location Specific (If Applicable):**\n\n*   (Your Town/Area) Dried Flowers\n*   (Street Name) Stems\n\n**Tips for Choosing:**\n\n*   **Availability:** Check if the name and a related domain name are available.\n*   **Target Audience:** Consider who you're trying to attract. A more modern name might appeal to a younger demographic, while a rustic name might resonate with a different group.\n*   **Memorability:** Is it easy to remember and pronounce?\n*   **Branding:** Does it fit the overall aesthetic you're going for?\n\nI hope this helps you find the perfect name! Let me know if you want more ideas!\n"
          },
          "metadata": {}
        }
      ],
      "source": [
        "prompt = \"Suggest a name for a flower shop that sells bouquets of dried flowers\"\n",
        "\n",
        "response = client.models.generate_content(model=MODEL_ID, contents=prompt)\n",
        "display(Markdown(response.text))"
      ]
    },
    {
      "cell_type": "markdown",
      "metadata": {
        "id": "eXTAvdOHY0OC"
      },
      "source": [
        "### Be specific, and well-defined"
      ]
    },
    {
      "cell_type": "markdown",
      "metadata": {
        "id": "FTH4GEIgY1dp"
      },
      "source": [
        "Suppose that you want to brainstorm creative ways to describe Earth."
      ]
    },
    {
      "cell_type": "markdown",
      "metadata": {
        "id": "o5BmXBiGY4KC"
      },
      "source": [
        "🛑 The prompt below might be a bit too generic (which is certainly OK if you'd like to ask a generic question!)"
      ]
    },
    {
      "cell_type": "code",
      "execution_count": 9,
      "metadata": {
        "id": "eHBaMvv7Y6mR",
        "colab": {
          "base_uri": "https://localhost:8080/",
          "height": 1000
        },
        "outputId": "4043c9e5-0011-456e-8046-b795b2ea2372"
      },
      "outputs": [
        {
          "output_type": "display_data",
          "data": {
            "text/plain": [
              "<IPython.core.display.Markdown object>"
            ],
            "text/markdown": "Okay, let's delve into the wonderful planet we call Earth! Here's a rundown of key facts and interesting points:\n\n**Basics:**\n\n*   **Name:** Earth (The only planet not named after a Greek or Roman god. \"Earth\" comes from the Old English word \"ertha\" and the Middle English word \"erthe,\" both meaning ground or soil.)\n*   **Planet Type:** Terrestrial (rocky)\n*   **Position in Solar System:** Third planet from the Sun\n*   **Distance from the Sun:** About 93 million miles (150 million kilometers) – defined as one Astronomical Unit (AU)\n*   **Diameter:** Approximately 7,918 miles (12,742 kilometers)\n*   **Circumference:** Roughly 24,901 miles (40,075 kilometers) at the equator\n*   **Mass:** 5.97 x 10^24 kg\n*   **Orbital Period (Year):** 365.25 days (This is why we have leap years!)\n*   **Rotation Period (Day):** 23 hours, 56 minutes, 4 seconds\n*   **Atmosphere:** Primarily nitrogen (78%) and oxygen (21%), with trace amounts of other gases like argon, carbon dioxide, and neon.\n*   **Surface:** About 71% covered in water (oceans, seas, lakes, rivers, ice).  The remaining 29% is land (continents and islands).\n*   **Moons:** One natural satellite, the Moon (Luna).\n*   **Rings:** None\n\n**Internal Structure:**\n\nEarth is composed of layers:\n\n*   **Inner Core:** A solid sphere of iron and nickel. It's incredibly hot (around 5,200°C or 9,392°F) due to immense pressure.\n*   **Outer Core:** A liquid layer of iron and nickel that surrounds the inner core.  The movement of this liquid metal generates Earth's magnetic field.\n*   **Mantle:** The thickest layer, composed of silicate rocks rich in iron and magnesium. It's mostly solid but can behave like a very viscous fluid over long periods.\n*   **Crust:** The outermost layer, the thin, solid \"skin\" of the Earth. There are two types of crust:\n    *   **Oceanic Crust:** Thinner (5-10 km), denser, and composed mostly of basalt.\n    *   **Continental Crust:** Thicker (30-70 km), less dense, and composed mostly of granite.\n\n**Key Features and Processes:**\n\n*   **Plate Tectonics:** Earth's crust is broken into large pieces called tectonic plates that float on the semi-molten mantle.  The movement of these plates causes:\n    *   **Earthquakes:** Sudden releases of energy when plates slip past each other.\n    *   **Volcanoes:** Occur where plates collide or separate, allowing molten rock (magma) to reach the surface.\n    *   **Mountain Formation:**  Collision of plates can push up land, creating mountain ranges.\n    *   **Continental Drift:** The slow movement of continents over millions of years.\n*   **Magnetic Field:** Generated by the movement of liquid iron in the outer core.  It protects Earth from harmful solar wind and radiation from the Sun.\n*   **Atmosphere:**\n    *   **Protects** from harmful solar radiation (UV rays).\n    *   **Regulates** temperature through the greenhouse effect (certain gases trap heat).\n    *   **Provides** the air we breathe.\n*   **Water Cycle:**  The continuous movement of water between the oceans, atmosphere, and land through evaporation, condensation, precipitation, and runoff.\n*   **Seasons:** Caused by the tilt of Earth's axis (23.5 degrees) relative to its orbit around the Sun. Different parts of the Earth receive more direct sunlight at different times of the year.\n*   **Life:**  Earth is currently the only known planet to harbor life. The presence of liquid water, a suitable atmosphere, and a stable temperature range are key factors.\n\n**Why is Earth Unique (as far as we know)?**\n\n*   **Liquid Water:** Abundant liquid water on the surface is crucial for life as we know it.\n*   **Atmosphere:**  The composition of Earth's atmosphere is unique, providing breathable air and protection from harmful radiation.\n*   **Magnetic Field:** Shields the planet from solar wind.\n*   **Plate Tectonics:**  Recycles nutrients and helps regulate the planet's temperature over long periods.\n*   **Stable Climate:**  Relatively stable climate over billions of years has allowed life to evolve.\n\n**Fun Facts:**\n\n*   Earth is not perfectly spherical; it's an oblate spheroid (slightly flattened at the poles and bulging at the equator).\n*   The highest point on Earth is Mount Everest (in the Himalayas).\n*   The lowest point on Earth is the Mariana Trench (in the Pacific Ocean).\n*   The Earth is estimated to be about 4.54 billion years old.\n*   Earth's atmosphere has changed significantly over time due to volcanic activity, the evolution of life, and other factors.\n*   Humans have significantly altered the Earth's environment, leading to climate change, pollution, and habitat loss.\n\n**Ongoing Research:**\n\nScientists are constantly studying Earth to learn more about its past, present, and future.  Areas of active research include:\n\n*   Climate change and its impacts.\n*   The Earth's interior and its dynamics.\n*   The origin and evolution of life.\n*   The search for life on other planets.\n*   Protecting Earth's environment.\n\nI tried to cover the most important and interesting aspects of Earth. Is there any particular aspect you'd like to know more about?  For example, we could discuss:\n\n*   Earth's history\n*   Specific geological features (like the Grand Canyon)\n*   The impact of humans on the environment\n*   Earth's place in the universe\n*   Future projections about Earth\n"
          },
          "metadata": {}
        }
      ],
      "source": [
        "prompt = \"Tell me about Earth\"\n",
        "\n",
        "response = client.models.generate_content(model=MODEL_ID, contents=prompt)\n",
        "display(Markdown(response.text))"
      ]
    },
    {
      "cell_type": "markdown",
      "metadata": {
        "id": "4iyvEbteZnFL"
      },
      "source": [
        "✅ Recommended. The prompt below is specific and well-defined."
      ]
    },
    {
      "cell_type": "code",
      "execution_count": 10,
      "metadata": {
        "id": "JQ80z8urZnne",
        "colab": {
          "base_uri": "https://localhost:8080/",
          "height": 783
        },
        "outputId": "5f706f23-d3c2-4fbf-f56b-0d4fc0adeac2"
      },
      "outputs": [
        {
          "output_type": "display_data",
          "data": {
            "text/plain": [
              "<IPython.core.display.Markdown object>"
            ],
            "text/markdown": "Okay, here's a list of things that make Earth unique compared to other known planets, with a focus on the most significant factors:\n\n**Fundamental & Defining Characteristics:**\n\n*   **Liquid Water on the Surface:** This is arguably the most important. While water ice exists on other planets and moons, and evidence suggests subsurface oceans are possible, Earth is the only known planet with stable, abundant liquid water on its surface. This is crucial for life as we know it.\n*   **Plate Tectonics:** Earth's lithosphere is broken into plates that move and interact, driving continental drift, mountain building, and volcanic activity. While some evidence suggests possible tectonic activity on other celestial bodies (like Enceladus), Earth's plate tectonics are unique in their scale and ongoing nature.\n*   **Life! (As Far As We Know):** This is the big one. Earth is the only planet confirmed to harbor life. The sheer diversity and complexity of life on Earth are unparalleled in our current understanding.\n*   **Oxygen-Rich Atmosphere:** Earth's atmosphere is uniquely rich in free oxygen (about 21%). This is largely a byproduct of photosynthesis by life, and it has profoundly shaped the planet's geology and biology.\n*   **Strong Magnetic Field:** Earth possesses a strong global magnetic field, generated by the movement of molten iron in its core. This field deflects harmful solar radiation and protects the atmosphere. Other planets have magnetic fields, but Earth's is particularly strong and stable.\n\n**Related & Consequential Factors:**\n\n*   **Complex and Dynamic Climate System:** Earth's climate is influenced by a multitude of factors, including solar radiation, atmospheric composition, ocean currents, and geological activity. The interactions between these factors create a dynamic and relatively stable climate system, although it is susceptible to change.\n*   **Moderate Temperature Range:** Earth's distance from the Sun and its atmosphere combine to create a relatively narrow temperature range that is conducive to liquid water and life.\n*   **Large Moon:** Earth's relatively large moon has a significant impact on its tides, its axial stability, and potentially its early development. The moon is unusually large compared to the size of the Earth.\n*   **Abundant Biodiversity:** Thanks to liquid water, a protective atmosphere, and other factors, Earth hosts an unparalleled array of life forms, from microscopic bacteria to giant whales.\n*   **Complex Ecosystems:** Earth's diverse life forms interact in intricate webs of relationships, forming complex and interconnected ecosystems.\n*   **Advanced Civilization:** Earth is the only known planet to have developed a technologically advanced civilization capable of altering its environment on a global scale.\n*   **Active Hydrological Cycle:** Water continuously cycles between the atmosphere, oceans, land, and living organisms through evaporation, condensation, precipitation, and runoff.\n\n**Things that are not necessarily unique, but are rare in combination:**\n\n*   **Rocky Composition:** Many planets and moons are rocky, but the specific composition of Earth's rocks and minerals may be unique in its proportions and distribution.\n*   **Presence of an Atmosphere:** Many planets have atmospheres, but the specific composition, density, and structure of Earth's atmosphere are unique.\n*   **Orbital Characteristics:** While other planets orbit stars, Earth's specific orbital distance, eccentricity, and axial tilt contribute to its unique climate and seasons.\n\nIt's important to remember that our understanding of exoplanets is still limited. As we discover and study more planets beyond our solar system, we may find that some of the features we currently consider unique to Earth are actually more common than we thought. However, the unique combination of factors that have allowed life to flourish on Earth is, as far as we know, truly exceptional.\n"
          },
          "metadata": {}
        }
      ],
      "source": [
        "prompt = \"Generate a list of ways that makes Earth unique compared to other planets\"\n",
        "\n",
        "response = client.models.generate_content(model=MODEL_ID, contents=prompt)\n",
        "display(Markdown(response.text))"
      ]
    },
    {
      "cell_type": "markdown",
      "metadata": {
        "id": "R5kmfZYHZsJ7"
      },
      "source": [
        "### Ask one task at a time"
      ]
    },
    {
      "cell_type": "markdown",
      "metadata": {
        "id": "rsAezxeYZuUN"
      },
      "source": [
        "🛑 Not recommended. The prompt below has two parts to the question that could be asked separately."
      ]
    },
    {
      "cell_type": "code",
      "execution_count": 11,
      "metadata": {
        "id": "ElywPXpuZtWf",
        "colab": {
          "base_uri": "https://localhost:8080/",
          "height": 958
        },
        "outputId": "057cdcb1-417d-48c3-e290-e03488190853"
      },
      "outputs": [
        {
          "output_type": "display_data",
          "data": {
            "text/plain": [
              "<IPython.core.display.Markdown object>"
            ],
            "text/markdown": "Let's tackle these two very different questions:\n\n**Best Method of Boiling Water**\n\nThe \"best\" method depends on your priorities and resources. Here's a breakdown:\n\n*   **Electric Kettle:**\n\n    *   **Pros:** Fastest (for small amounts), most energy-efficient for small quantities, safest (automatic shut-off), quietest, very convenient (just press a button).\n    *   **Cons:** Requires electricity, limited capacity.\n    *   **Best For:** Quick cups of tea/coffee, small cooking tasks.\n\n*   **Stovetop Kettle (Gas or Electric):**\n\n    *   **Pros:** Can boil larger quantities, doesn't require electricity if using a gas stove, usually more durable than electric kettles.  Whistling kettles can be a fun reminder.\n    *   **Cons:** Slower than electric kettles, less energy-efficient than electric kettles (especially on electric stovetops), can be dangerous if left unattended and boils dry.\n    *   **Best For:** Larger batches of hot water, situations where electricity is unreliable, those who prefer the traditional whistling kettle.\n\n*   **Stovetop Pot (Gas or Electric):**\n\n    *   **Pros:** Most versatile (can boil any amount of water), requires no special equipment beyond a pot.\n    *   **Cons:** Slowest method, least energy-efficient, requires monitoring, can be dangerous if left unattended.\n    *   **Best For:** Boiling large amounts of water (e.g., for pasta), situations where you don't have a kettle.\n\n*   **Microwave:**\n\n    *   **Pros:** Fast for very small amounts.\n    *   **Cons:** Can cause \"superheating\" (water gets hotter than the boiling point without boiling, then erupts violently when disturbed), uneven heating, not suitable for large quantities, doesn't allow for easy pouring.\n    *   **Best For:** Very small amounts in a pinch, but generally not recommended.\n\n*   **Over a Fire (Campfire/Outdoor Stove):**\n\n    *   **Pros:** Useful when no other options are available.\n    *   **Cons:** Requires a heat-safe container, can be slow and inefficient, sooty, requires careful fire management.\n    *   **Best For:** Camping, emergencies, outdoor cooking.\n\n**In Summary:** For most people, an **electric kettle** is the best option for its speed, convenience, and energy efficiency for common tasks. If you regularly need large quantities of boiling water, a **stovetop kettle** is a good choice. Avoid microwaving water if possible.\n\n**Why is the Sky Blue?**\n\nThe sky is blue due to a phenomenon called **Rayleigh scattering**. Here's the simplified explanation:\n\n1.  **Sunlight is made of all colors:** White sunlight is actually a mix of all the colors of the rainbow.\n\n2.  **Sunlight enters the Earth's atmosphere:** When sunlight enters the Earth's atmosphere, it collides with air molecules (mostly nitrogen and oxygen).\n\n3.  **Colors are scattered:** These collisions cause the sunlight to scatter in different directions. Shorter wavelengths of light (blue and violet) are scattered *much more* than longer wavelengths (red and orange). This is Rayleigh scattering: scattering of electromagnetic radiation (of which visible light is a form) by particles of a much smaller wavelength.\n\n4.  **We see blue:** Our eyes are more sensitive to blue light than violet light, and there is more blue light in sunlight to begin with. Therefore, we primarily see the scattered blue light, giving the sky its characteristic color.\n\n**Why not violet then?**\nWhile violet light is also scattered a lot, there is less violet light in the Sun's radiation to begin with, and the human eye is less sensitive to violet.  Also, some violet light is absorbed higher in the atmosphere.\n\n**Why are sunsets red/orange?**\n\nAt sunrise and sunset, the sunlight has to travel through *much* more of the atmosphere to reach our eyes. This means that almost all of the blue light is scattered away before it gets to us. Only the longer wavelengths (red and orange) are left, so that's what we see.\n"
          },
          "metadata": {}
        }
      ],
      "source": [
        "prompt = \"What's the best method of boiling water and why is the sky blue?\"\n",
        "\n",
        "response = client.models.generate_content(model=MODEL_ID, contents=prompt)\n",
        "display(Markdown(response.text))"
      ]
    },
    {
      "cell_type": "markdown",
      "metadata": {
        "id": "ejzahazBZ8vk"
      },
      "source": [
        "✅ Recommended. The prompts below asks one task a time."
      ]
    },
    {
      "cell_type": "code",
      "execution_count": 12,
      "metadata": {
        "id": "C5ckp2F0Z_Ba",
        "colab": {
          "base_uri": "https://localhost:8080/",
          "height": 1000
        },
        "outputId": "fb945cb2-0dfd-4487-e2ba-c8271f959a67"
      },
      "outputs": [
        {
          "output_type": "display_data",
          "data": {
            "text/plain": [
              "<IPython.core.display.Markdown object>"
            ],
            "text/markdown": "The \"best\" method of boiling water depends on your priorities and the context. Here's a breakdown of different methods and their pros and cons:\n\n**1. Electric Kettle:**\n\n*   **Pros:**\n    *   **Fast:** Often the fastest method, especially for smaller quantities.\n    *   **Energy Efficient:**  Modern electric kettles are generally more energy-efficient than stovetop methods because they heat only the water you need.\n    *   **Convenient:**  Automatic shut-off feature for safety and convenience.  Easy to use.\n    *   **Precise Temperature Control (some models):** Higher-end models allow you to set specific temperatures, ideal for brewing different types of tea or coffee.\n    *   **Clean:** No soot or residue.\n*   **Cons:**\n    *   **Requires electricity:** Useless without a power source.\n    *   **Capacity:** Typically limited to a few liters.\n    *   **Durability:** Can be prone to limescale buildup, especially in areas with hard water.  Requires regular cleaning.\n\n**2. Stovetop Kettle (Whistling Kettle):**\n\n*   **Pros:**\n    *   **Versatile:** Works on any stovetop (gas, electric, induction).\n    *   **Audible Alert:** The whistle lets you know when the water is boiling.\n    *   **Classic Design:**  Many people find them aesthetically pleasing.\n*   **Cons:**\n    *   **Slower than electric kettle:**  Can take longer, especially with a larger volume of water.\n    *   **Less Energy Efficient:** More heat loss to the environment compared to electric kettles.\n    *   **Requires Attention:** You need to listen for the whistle to avoid boiling dry.\n    *   **Cleaning:** Can be challenging to clean the inside, especially in hard water areas.\n\n**3. Stovetop Pot (Open Pot):**\n\n*   **Pros:**\n    *   **Simple:** Uses any pot you already have.\n    *   **Large Capacity:** Can boil very large quantities of water.\n*   **Cons:**\n    *   **Slowest Method:** Takes the longest time to boil.\n    *   **Least Energy Efficient:**  Significant heat loss.\n    *   **Requires Constant Monitoring:** You need to watch it closely to prevent boiling over.\n    *   **No Automatic Shut-off:** Can be a safety hazard if forgotten.\n    *   **Potential for Evaporation:** Water can evaporate quickly.\n\n**4. Microwave:**\n\n*   **Pros:**\n    *   **Fast:** Can be quick for very small amounts of water (e.g., a single cup).\n*   **Cons:**\n    *   **Uneven Heating:** Microwaves can heat water unevenly, potentially causing superheating (where the water is hotter than its boiling point but doesn't appear to be boiling; this can lead to explosive boiling when disturbed).\n    *   **Safety Concerns:**  Risk of superheating.  Avoid using metal containers.\n    *   **Not Ideal for Large Quantities:**  Microwaves are best for small volumes.\n    *   **Taste:** Some people find that microwaved water has a slightly different taste.\n\n**5. Campfire (or other open fire):**\n\n*   **Pros:**\n    *   **Survival:** Useful in situations where you don't have access to electricity or a stove.\n    *   **Primitive Skill:** Can be a fun and rewarding skill to learn.\n*   **Cons:**\n    *   **Slowest and Least Efficient:** Extremely slow and inefficient.\n    *   **Requires Fuel and Effort:**  You need to gather firewood and build a fire.\n    *   **Smoky and Dirty:**  Your pot will get covered in soot.\n    *   **Safety Concerns:** Risk of burns and uncontrolled fires.\n\n**Summary Table:**\n\n| Method          | Speed      | Energy Efficiency | Convenience    | Capacity    | Safety    | Notes                                              |\n|-----------------|------------|-------------------|----------------|-------------|-----------|----------------------------------------------------|\n| Electric Kettle | Very Fast  | High              | High           | Small/Medium| High      | Best for everyday use when electricity is available |\n| Stovetop Kettle | Medium     | Medium            | Medium         | Medium      | Medium    | Good alternative if you don't want an electric kettle|\n| Stovetop Pot   | Slow       | Low               | Low            | Large       | Low       | Best for very large quantities                       |\n| Microwave       | Fast (Small)| Low               | Medium         | Very Small  | Low       | Not recommended for larger quantities             |\n| Campfire        | Very Slow  | Very Low          | Very Low       | Variable    | Very Low  | For survival situations only                      |\n\n**Conclusion:**\n\n*   **For everyday use and the best overall balance of speed, efficiency, and convenience, an electric kettle is generally the best method.**\n*   **If you don't have electricity or prefer a more traditional approach, a stovetop kettle is a good choice.**\n*   **Use a stovetop pot for boiling very large quantities of water.**\n*   **Avoid using a microwave unless it's for a very small amount of water, and be very careful about superheating.**\n*   **Campfire boiling is for survival situations only.**\n\nConsider what's most important to you and choose the method that best fits your needs!\n"
          },
          "metadata": {}
        }
      ],
      "source": [
        "prompt = \"What's the best method of boiling water?\"\n",
        "\n",
        "response = client.models.generate_content(model=MODEL_ID, contents=prompt)\n",
        "display(Markdown(response.text))"
      ]
    },
    {
      "cell_type": "code",
      "execution_count": 13,
      "metadata": {
        "id": "KwUzhud4aA89",
        "colab": {
          "base_uri": "https://localhost:8080/",
          "height": 320
        },
        "outputId": "9f6e6f6f-7225-4d8c-ae50-163f1d531fad"
      },
      "outputs": [
        {
          "output_type": "display_data",
          "data": {
            "text/plain": [
              "<IPython.core.display.Markdown object>"
            ],
            "text/markdown": "The sky appears blue due to a phenomenon called **Rayleigh scattering**. Here's a breakdown of why:\n\n*   **Sunlight and its Colors:** Sunlight is actually made up of all the colors of the rainbow.\n\n*   **Entering the Atmosphere:** As sunlight enters Earth's atmosphere, it collides with tiny air molecules (mostly nitrogen and oxygen).\n\n*   **Scattering of Light:** This collision causes the sunlight to scatter in different directions.\n\n*   **Rayleigh Scattering:** Rayleigh scattering is the scattering of electromagnetic radiation (including visible light) by particles of a much smaller wavelength.\n\n*   **Shorter Wavelengths Scatter More:** Shorter wavelengths of light (blue and violet) are scattered much more strongly than longer wavelengths (red and orange). This is because the shorter wavelengths match the size of the air molecules better.\n\n*   **Why Not Violet?** Violet is scattered even more than blue. However, the sun emits less violet light, and our eyes are also less sensitive to violet light. Also, as the light passes through the atmosphere, violet light is absorbed by the atmosphere a little more efficiently than blue light.\n\n*   **The Result:** Therefore, we see the sky as blue because blue light is scattered around more in the atmosphere, reaching our eyes from all directions.\n\n**In summary:** Blue light is scattered more effectively by the air molecules in the atmosphere, making the sky appear blue to our eyes."
          },
          "metadata": {}
        }
      ],
      "source": [
        "prompt = \"Why is the sky blue?\"\n",
        "\n",
        "response = client.models.generate_content(model=MODEL_ID, contents=prompt)\n",
        "display(Markdown(response.text))"
      ]
    },
    {
      "cell_type": "markdown",
      "metadata": {
        "id": "PJIL2RTQaGcT"
      },
      "source": [
        "### Watch out for hallucinations"
      ]
    },
    {
      "cell_type": "markdown",
      "metadata": {
        "id": "8Y8kYxrSaHE9"
      },
      "source": [
        "Although LLMs have been trained on a large amount of data, they can generate text containing statements not grounded in truth or reality; these responses from the LLM are often referred to as \"hallucinations\" due to their limited memorization capabilities. Note that simply prompting the LLM to provide a citation isn't a fix to this problem, as there are instances of LLMs providing false or inaccurate citations. Dealing with hallucinations is a fundamental challenge of LLMs and an ongoing research area, so it is important to be cognizant that LLMs may seem to give you confident, correct-sounding statements that are in fact incorrect.\n",
        "\n",
        "Note that if you intend to use LLMs for the creative use cases, hallucinating could actually be quite useful."
      ]
    },
    {
      "cell_type": "markdown",
      "metadata": {
        "id": "8NY5nAGeaJYS"
      },
      "source": [
        "Try the prompt like the one below repeatedly. We set the temperature to `1.0` so that it takes more risks in its choices. It's possible that it may provide an inaccurate, but confident answer."
      ]
    },
    {
      "cell_type": "code",
      "execution_count": 14,
      "metadata": {
        "id": "QALPjEILaM62",
        "colab": {
          "base_uri": "https://localhost:8080/",
          "height": 46
        },
        "outputId": "1dc32f98-eb25-4f75-9315-5ee3b92d1d6a"
      },
      "outputs": [
        {
          "output_type": "display_data",
          "data": {
            "text/plain": [
              "<IPython.core.display.Markdown object>"
            ],
            "text/markdown": "Today is Saturday, November 2nd, 2024.\n"
          },
          "metadata": {}
        }
      ],
      "source": [
        "generation_config = GenerateContentConfig(temperature=1.0)\n",
        "\n",
        "prompt = \"What day is it today?\"\n",
        "\n",
        "response = client.models.generate_content(model=MODEL_ID, contents=prompt)\n",
        "display(Markdown(response.text))"
      ]
    },
    {
      "cell_type": "markdown",
      "metadata": {
        "id": "BRkwzbgRbhKt"
      },
      "source": [
        "Since LLMs do not have access to real-time information without further integrations, you may have noticed it hallucinates what day it is today in some of the outputs."
      ]
    },
    {
      "cell_type": "markdown",
      "metadata": {
        "id": "3c811e310d02"
      },
      "source": [
        "### Using system instructions to guardrail the model from irrelevant responses\n",
        "\n",
        "How can we attempt to reduce the chances of irrelevant responses and hallucinations?\n",
        "\n",
        "One way is to provide the LLM with [system instructions](https://cloud.google.com/vertex-ai/generative-ai/docs/multimodal/send-chat-prompts-gemini#system-instructions).\n",
        "\n",
        "Let's see how system instructions works and how you can use them to reduce hallucinations or irrelevant questions for a travel chatbot.\n",
        "\n",
        "Suppose we ask a simple question about one of Italy's most famous tourist spots."
      ]
    },
    {
      "cell_type": "code",
      "execution_count": 15,
      "metadata": {
        "id": "rB6zJU76biFK",
        "colab": {
          "base_uri": "https://localhost:8080/",
          "height": 46
        },
        "outputId": "8a26087f-9c3a-454d-dae2-229257e30982"
      },
      "outputs": [
        {
          "output_type": "display_data",
          "data": {
            "text/plain": [
              "<IPython.core.display.Markdown object>"
            ],
            "text/markdown": "The Duomo di Milano is the top sightseeing attraction in Milan, Italy. It is a stunning cathedral that is a must-see for any visitor to the city.\n"
          },
          "metadata": {}
        }
      ],
      "source": [
        "generation_config = GenerateContentConfig(temperature=1.0)\n",
        "\n",
        "chat = client.chats.create(\n",
        "    model=MODEL_ID,\n",
        "    config=GenerateContentConfig(\n",
        "        system_instruction=[\n",
        "            \"Hello! You are an AI chatbot for a travel web site.\",\n",
        "            \"Your mission is to provide helpful queries for travelers.\",\n",
        "            \"Remember that before you answer a question, you must check to see if it complies with your mission.\",\n",
        "            \"If not, you can say, Sorry I can't answer that question.\",\n",
        "        ]\n",
        "    ),\n",
        ")\n",
        "\n",
        "prompt = \"What is the best place for sightseeing in Milan, Italy?\"\n",
        "\n",
        "response = chat.send_message(prompt)\n",
        "display(Markdown(response.text))"
      ]
    },
    {
      "cell_type": "markdown",
      "metadata": {
        "id": "WZa-Qcf9cF4A"
      },
      "source": [
        "Now let us pretend to be a user asks the chatbot a question that is unrelated to travel."
      ]
    },
    {
      "cell_type": "code",
      "execution_count": 16,
      "metadata": {
        "id": "AZKBIDr2cGnu",
        "colab": {
          "base_uri": "https://localhost:8080/",
          "height": 46
        },
        "outputId": "b01764eb-c908-4e24-b1b5-013d90f87edf"
      },
      "outputs": [
        {
          "output_type": "display_data",
          "data": {
            "text/plain": [
              "<IPython.core.display.Markdown object>"
            ],
            "text/markdown": "The Duomo di Milano is the top sightseeing attraction in Milan, Italy. It is a stunning cathedral that is a must-see for any visitor to the city.\n"
          },
          "metadata": {}
        }
      ],
      "source": [
        "prompt = \"What is the best place for sightseeing in Milan, Italy?\"\n",
        "\n",
        "response = chat.send_message(prompt)\n",
        "display(Markdown(response.text))"
      ]
    },
    {
      "cell_type": "markdown",
      "metadata": {
        "id": "JiUYIhwpctCy"
      },
      "source": [
        "You can see that this way, a guardrail in the prompt prevented the chatbot from veering off course."
      ]
    },
    {
      "cell_type": "markdown",
      "metadata": {
        "id": "ZuuDhA37cvmP"
      },
      "source": [
        "### Turn generative tasks into classification tasks to reduce output variability"
      ]
    },
    {
      "cell_type": "markdown",
      "metadata": {
        "id": "kUCUrsUzczmb"
      },
      "source": [
        "#### Generative tasks lead to higher output variability"
      ]
    },
    {
      "cell_type": "markdown",
      "metadata": {
        "id": "a1xASHAkc46n"
      },
      "source": [
        "The prompt below results in an open-ended response, useful for brainstorming, but response is highly variable."
      ]
    },
    {
      "cell_type": "code",
      "execution_count": 17,
      "metadata": {
        "id": "nPfXQWIacwRf",
        "colab": {
          "base_uri": "https://localhost:8080/",
          "height": 1000
        },
        "outputId": "0dcb3350-66d8-42f9-89ca-763e50bf6836"
      },
      "outputs": [
        {
          "output_type": "display_data",
          "data": {
            "text/plain": [
              "<IPython.core.display.Markdown object>"
            ],
            "text/markdown": "Okay, here are a few programming activity recommendations tailored for a high school student, broken down by skill level and interest, along with explanations of why they're good:\n\n**Beginner Level (Just starting out):**\n\n*   **Activity:** **Text-Based Adventure Game**\n    *   **Description:** A simple game where the user types commands to explore a virtual world. For example, \"go north,\" \"look around,\" \"take sword,\" \"fight goblin.\"\n    *   **Why it's good:**\n        *   **Simple Input/Output:** Focuses on basic `print()` statements for output and `input()` for user interaction.\n        *   **Conditional Logic:** Uses `if/else` statements to determine what happens based on the user's input.\n        *   **String Manipulation:**  Working with text-based commands is good practice for string operations.\n        *   **Easy to Expand:** You can gradually add more rooms, items, monsters, and features as you learn.\n    *   **Languages:** Python (easiest to start with), JavaScript (if you want to eventually put it on a website), C# (if you want to use a game engine later).\n    *   **Example Snippet (Python):**\n        ```python\n        room = \"entrance\"\n        inventory = []\n\n        def look_around():\n          if room == \"entrance\":\n            print(\"You are in a dimly lit entrance hall.  There is a door to the north.\")\n          elif room == \"north_room\":\n            print(\"You are in a dusty room.  There's a rusty key on the floor.\")\n\n        while True:\n          command = input(\"> \").lower()\n\n          if command == \"look\":\n            look_around()\n          elif command == \"go north\":\n            if room == \"entrance\":\n              room = \"north_room\"\n              look_around()\n            else:\n              print(\"You can't go north from here.\")\n          elif command == \"take key\":\n              if room == \"north_room\":\n                  inventory.append(\"key\")\n                  print(\"You picked up the rusty key.\")\n              else:\n                  print(\"There is no key here.\")\n\n          elif command == \"inventory\":\n              print(\"You have: \" + \", \".join(inventory))\n          elif command == \"quit\":\n              break\n          else:\n            print(\"I don't understand that command.\")\n        ```\n\n**Intermediate Level (Familiar with basic programming concepts):**\n\n*   **Activity:** **To-Do List Application**\n    *   **Description:** A program that allows users to add, delete, and mark tasks as complete.  You can store the data in a simple text file or use a database (SQLite is good for beginners).\n    *   **Why it's good:**\n        *   **Data Structures:** You'll use lists or dictionaries to store the tasks.\n        *   **File I/O or Database Interaction:**  Learn to read and write data to a file or database.\n        *   **User Interface:**  You can create a command-line interface or even a simple graphical user interface (GUI) using libraries like Tkinter (Python), Swing (Java), or HTML/CSS/JavaScript (for a web app).\n        *   **Object-Oriented Programming (OOP):**  You could represent each task as an object with properties (description, completion status) and methods (mark as complete).\n    *   **Languages:** Python, Java, JavaScript, C#.  Python with Tkinter is a good choice for a simple GUI.\n    *   **Key Concepts:**  Functions, classes (optional but recommended), loops, file handling/database queries.\n*   **Activity:** **Simple Web Scraper**\n    *   **Description:**  A program that automatically extracts specific data from a website. For example, scraping product prices from an online store or collecting headlines from a news site.\n    *   **Why it's good:**\n        *   **HTTP Requests:**  Learn how to make requests to retrieve web pages.\n        *   **HTML Parsing:**  Use libraries to parse the HTML structure of a web page and extract the information you need.  Beautiful Soup (Python) is a popular choice.\n        *   **Regular Expressions (Regex):**  Useful for pattern matching and extracting specific text from the HTML.\n        *   **Ethical Considerations:**  Learn about the importance of respecting website terms of service and avoiding overloading servers with requests.\n    *   **Languages:** Python (with libraries like `requests` and `BeautifulSoup`), JavaScript (with `fetch` or `axios` and DOM manipulation).\n\n**Advanced Level (Comfortable with more complex programming concepts):**\n\n*   **Activity:** **Chatbot**\n    *   **Description:**  A program that can engage in a simple conversation with a user.\n    *   **Why it's good:**\n        *   **Natural Language Processing (NLP):**  Explore techniques for understanding user input and generating responses. Libraries like NLTK or spaCy (Python) can be helpful.\n        *   **Machine Learning (Optional):**  Train a model to predict the user's intent and provide more relevant responses.\n        *   **API Integration:**  Connect your chatbot to external APIs (e.g., weather, news) to provide richer functionality.\n    *   **Languages:** Python (popular for NLP and machine learning), JavaScript (if you want to integrate it into a website).\n    *   **Key Concepts:**  NLP techniques (tokenization, stemming, part-of-speech tagging), machine learning algorithms (classification), API requests.\n*   **Activity:** **Simple Game Development (using a framework like Pygame, or a game engine like Unity or Godot)**\n    *   **Description:**  Create a basic 2D game like Pong, Snake, or a platformer.\n    *   **Why it's good:**\n        *   **Game Loop:**  Understand the fundamental structure of a game, including updating game state and rendering graphics.\n        *   **Collision Detection:**  Implement algorithms to detect collisions between game objects.\n        *   **User Input:**  Handle keyboard, mouse, or touch input.\n        *   **Graphics and Sound:**  Work with images, animations, and sound effects.\n    *   **Languages:** Python (Pygame), C# (Unity), GDScript (Godot), C++ (Unreal Engine - more advanced).\n    *   **Frameworks/Engines:** Pygame (good for beginners), Unity (industry-standard, cross-platform), Godot (open-source, user-friendly).\n\n**How to Choose the Right Activity:**\n\n1.  **Consider your interests:** What are you passionate about? Do you enjoy problem-solving, creating games, building websites, or working with data?\n2.  **Assess your skill level:** Start with an activity that's slightly challenging but not overwhelming.\n3.  **Set realistic goals:** Break down the project into smaller, manageable tasks.\n4.  **Use online resources:** Look for tutorials, documentation, and example code to help you learn.\n5.  **Don't be afraid to ask for help:** Join online communities or ask a teacher or mentor for guidance.\n6.  **Most Importantly: Have fun!**  The more you enjoy the process, the more likely you are to stick with it and learn.\n\n**Tips for Success:**\n\n*   **Use version control (Git):** Learn to use Git and GitHub to track your changes and collaborate with others.  This is *essential* for any serious programming project.\n*   **Write clean and well-documented code:** Use meaningful variable names, add comments to explain your code, and follow coding style guidelines.\n*   **Test your code thoroughly:**  Write unit tests to ensure that your code is working correctly.\n*   **Refactor your code:**  After you've written some code, take some time to review it and identify areas where you can improve its structure and readability.\n*   **Learn to debug:**  Use a debugger to step through your code and identify the source of errors.\n*   **Practice consistently:**  The more you practice, the better you'll become at programming.\n\nGood luck, and happy coding! Let me know if you have any more questions.\n"
          },
          "metadata": {}
        }
      ],
      "source": [
        "prompt = \"I'm a high school student. Recommend me a programming activity to improve my skills.\"\n",
        "\n",
        "response = client.models.generate_content(model=MODEL_ID, contents=prompt)\n",
        "display(Markdown(response.text))"
      ]
    },
    {
      "cell_type": "markdown",
      "metadata": {
        "id": "iAmm9wPYc_1o"
      },
      "source": [
        "#### Classification tasks reduces output variability"
      ]
    },
    {
      "cell_type": "markdown",
      "metadata": {
        "id": "VvRpK_0GdCpf"
      },
      "source": [
        "The prompt below results in a choice and may be useful if you want the output to be easier to control."
      ]
    },
    {
      "cell_type": "code",
      "execution_count": 18,
      "metadata": {
        "id": "kYDKh0r2dAqo",
        "colab": {
          "base_uri": "https://localhost:8080/",
          "height": 1000
        },
        "outputId": "20a215ff-0c52-438a-e953-33e39258ec8e"
      },
      "outputs": [
        {
          "output_type": "display_data",
          "data": {
            "text/plain": [
              "<IPython.core.display.Markdown object>"
            ],
            "text/markdown": "Okay, as a high school student looking to learn a programming language, I strongly recommend **either Python or JavaScript**, and I'll explain why, and why you should generally avoid Fortran in your situation.\n\n**Here's a breakdown:**\n\n*   **Python:  (Highly Recommended)**\n\n    *   **Reasons:**\n        *   **Beginner-Friendly Syntax:** Python is known for its clear and readable syntax, making it easier to learn and understand, especially for someone new to programming. It reads almost like plain English.\n        *   **Versatile Applications:**  Python is used in a wide range of applications, including:\n            *   **Web Development (Backend):**  Building server-side logic with frameworks like Django and Flask.\n            *   **Data Science and Machine Learning:**  Analyzing data, building models, and creating visualizations. This is a huge and growing field.\n            *   **Scripting and Automation:** Automating tasks on your computer, such as renaming files, creating backups, or scraping data from websites.\n            *   **Game Development (Simple Games):**  Libraries like Pygame make it easy to create 2D games.\n            *   **Education:** Python is often the language of choice in introductory programming courses in high schools and universities.\n        *   **Large and Supportive Community:**  Python has a massive and active online community, meaning you'll find tons of tutorials, documentation, and help forums if you get stuck.  Stack Overflow is your friend.\n        *   **Job Market:**  Python skills are in high demand in the job market.\n        *   **Good for STEM:**  If you're interested in science, technology, engineering, or mathematics, Python is a particularly valuable skill to have.\n\n    *   **Example Use Case for You:**\n        *   You could use Python to create a program that automatically grades your homework (if you have access to the problem set and answer key in a digital format...don't cheat!).\n        *   You could analyze data from a science experiment.\n        *   You could build a simple website to showcase your projects.\n        *   You could automate repetitive tasks on your computer.\n\n*   **JavaScript: (Also Highly Recommended)**\n\n    *   **Reasons:**\n        *   **Front-End Web Development:** JavaScript is the language of the web. It's essential for creating interactive and dynamic websites. It runs directly in the browser.\n        *   **Ubiquitous:** Every website you use relies on Javascript in some way.\n        *   **Back-End Development (with Node.js):**  JavaScript can also be used on the server-side with Node.js, allowing you to build full-stack web applications (both the front-end and the back-end).\n        *   **Large and Supportive Community:**  Similar to Python, JavaScript has a massive and active online community.\n        *   **Job Market:** JavaScript skills are extremely in demand in the job market.\n        *   **Visual and Interactive:**  You can see the results of your code immediately in a web browser, which can be very motivating.\n\n    *   **Example Use Case for You:**\n        *   You could create a website to showcase your artwork, photography, or writing.\n        *   You could build a web-based game.\n        *   You could create interactive learning tools.\n        *   You could contribute to open-source web projects.\n\n*   **Fortran: (Generally NOT Recommended for a High School Student Today)**\n\n    *   **Reasons:**\n        *   **Outdated (Relatively):** Fortran is a much older language. While it's still used in specific scientific and engineering fields (especially for high-performance computing and numerical simulations), it's not as widely applicable as Python or JavaScript.\n        *   **Steeper Learning Curve:** Fortran's syntax can be more challenging to learn than Python's.\n        *   **Limited Modern Applications:**  While powerful for certain niche tasks, it's not as useful for general-purpose programming, web development, or data science as the other two.\n        *   **Smaller Community:**  The Fortran community is smaller than the Python or JavaScript communities, which means you might have more difficulty finding help when you get stuck.\n        *   **Job Market:**  The job market for Fortran developers is much smaller compared to Python or JavaScript.  It's highly specialized.\n\n    *   **When Fortran Might Be Relevant:**\n        *   If you know *specifically* that you want to work in a scientific field that heavily relies on Fortran (e.g., climate modeling, computational fluid dynamics) *and* you have access to experienced Fortran programmers who can mentor you.  Even then, learning Python *first* is probably a better idea.\n\n**In Summary:**\n\n*   **Start with Python if:** You're interested in data science, machine learning, scripting, or a more general-purpose language with a beginner-friendly syntax.\n*   **Start with JavaScript if:** You're interested in web development and creating interactive websites.\n\nBoth Python and JavaScript are excellent choices that will provide you with valuable skills and open up many opportunities. Fortran is best left for later, if your specific career path demands it.\n\nGood luck with your programming journey!  Let me know if you have any other questions.\n"
          },
          "metadata": {}
        }
      ],
      "source": [
        "prompt = \"\"\"I'm a high school student. Which of these activities do you suggest and why:\n",
        "a) learn Python\n",
        "b) learn JavaScript\n",
        "c) learn Fortran\n",
        "\"\"\"\n",
        "\n",
        "response = client.models.generate_content(model=MODEL_ID, contents=prompt)\n",
        "display(Markdown(response.text))"
      ]
    },
    {
      "cell_type": "markdown",
      "metadata": {
        "id": "iTd60b1GdIsx"
      },
      "source": [
        "### Improve response quality by including examples"
      ]
    },
    {
      "cell_type": "markdown",
      "metadata": {
        "id": "yJi44NejdJYE"
      },
      "source": [
        "Another way to improve response quality is to add examples in your prompt. The LLM learns in-context from the examples on how to respond. Typically, one to five examples (shots) are enough to improve the quality of responses. Including too many examples can cause the model to over-fit the data and reduce the quality of responses.\n",
        "\n",
        "Similar to classical model training, the quality and distribution of the examples is very important. Pick examples that are representative of the scenarios that you need the model to learn, and keep the distribution of the examples (e.g. number of examples per class in the case of classification) aligned with your actual distribution."
      ]
    },
    {
      "cell_type": "markdown",
      "metadata": {
        "id": "sMbLginWdOKs"
      },
      "source": [
        "#### Zero-shot prompt"
      ]
    },
    {
      "cell_type": "markdown",
      "metadata": {
        "id": "Crh2Loi2dQ0v"
      },
      "source": [
        "Below is an example of zero-shot prompting, where you don't provide any examples to the LLM within the prompt itself."
      ]
    },
    {
      "cell_type": "code",
      "execution_count": 19,
      "metadata": {
        "id": "-7myRc-SdTQ4",
        "colab": {
          "base_uri": "https://localhost:8080/",
          "height": 46
        },
        "outputId": "0a72d38f-2b67-47b5-b67c-c7e62f9de286"
      },
      "outputs": [
        {
          "output_type": "display_data",
          "data": {
            "text/plain": [
              "<IPython.core.display.Markdown object>"
            ],
            "text/markdown": "Sentiment: Positive\n"
          },
          "metadata": {}
        }
      ],
      "source": [
        "prompt = \"\"\"Decide whether a Tweet's sentiment is positive, neutral, or negative.\n",
        "\n",
        "Tweet: I loved the new YouTube video you made!\n",
        "Sentiment:\n",
        "\"\"\"\n",
        "\n",
        "response = client.models.generate_content(model=MODEL_ID, contents=prompt)\n",
        "display(Markdown(response.text))"
      ]
    },
    {
      "cell_type": "markdown",
      "metadata": {
        "id": "ucRtPn9SdL64"
      },
      "source": [
        "#### One-shot prompt"
      ]
    },
    {
      "cell_type": "markdown",
      "metadata": {
        "id": "rs0gQH2vdYBi"
      },
      "source": [
        "Below is an example of one-shot prompting, where you provide one example to the LLM within the prompt to give some guidance on what type of response you want."
      ]
    },
    {
      "cell_type": "code",
      "execution_count": 20,
      "metadata": {
        "id": "iEq-KxGYdaT5",
        "colab": {
          "base_uri": "https://localhost:8080/",
          "height": 46
        },
        "outputId": "2f0b79c3-85b6-4ee3-de52-b494ba4c497b"
      },
      "outputs": [
        {
          "output_type": "display_data",
          "data": {
            "text/plain": [
              "<IPython.core.display.Markdown object>"
            ],
            "text/markdown": "Sentiment: negative\n"
          },
          "metadata": {}
        }
      ],
      "source": [
        "prompt = \"\"\"Decide whether a Tweet's sentiment is positive, neutral, or negative.\n",
        "\n",
        "Tweet: I loved the new YouTube video you made!\n",
        "Sentiment: positive\n",
        "\n",
        "Tweet: That was awful. Super boring 😠\n",
        "Sentiment:\n",
        "\"\"\"\n",
        "\n",
        "response = client.models.generate_content(model=MODEL_ID, contents=prompt)\n",
        "display(Markdown(response.text))"
      ]
    },
    {
      "cell_type": "markdown",
      "metadata": {
        "id": "JnKLjJzmdfL_"
      },
      "source": [
        "#### Few-shot prompt"
      ]
    },
    {
      "cell_type": "markdown",
      "metadata": {
        "id": "6Zv-9F5OdgI_"
      },
      "source": [
        "Below is an example of few-shot prompting, where you provide a few examples to the LLM within the prompt to give some guidance on what type of response you want."
      ]
    },
    {
      "cell_type": "code",
      "execution_count": 21,
      "metadata": {
        "id": "u37P9tG4dk9S",
        "colab": {
          "base_uri": "https://localhost:8080/",
          "height": 46
        },
        "outputId": "e7c6e283-4c77-4cb8-f6e3-c2416660d8fa"
      },
      "outputs": [
        {
          "output_type": "display_data",
          "data": {
            "text/plain": [
              "<IPython.core.display.Markdown object>"
            ],
            "text/markdown": "Sentiment: positive\n"
          },
          "metadata": {}
        }
      ],
      "source": [
        "prompt = \"\"\"Decide whether a Tweet's sentiment is positive, neutral, or negative.\n",
        "\n",
        "Tweet: I loved the new YouTube video you made!\n",
        "Sentiment: positive\n",
        "\n",
        "Tweet: That was awful. Super boring 😠\n",
        "Sentiment: negative\n",
        "\n",
        "Tweet: Something surprised me about this video - it was actually original. It was not the same old recycled stuff that I always see. Watch it - you will not regret it.\n",
        "Sentiment:\n",
        "\"\"\"\n",
        "\n",
        "response = client.models.generate_content(model=MODEL_ID, contents=prompt)\n",
        "display(Markdown(response.text))"
      ]
    },
    {
      "cell_type": "markdown",
      "metadata": {
        "id": "wDMD3xb2dvX6"
      },
      "source": [
        "#### Choosing between zero-shot, one-shot, few-shot prompting methods"
      ]
    },
    {
      "cell_type": "markdown",
      "metadata": {
        "id": "s92W0YpNdxJp"
      },
      "source": [
        "Which prompt technique to use will solely depends on your goal. The zero-shot prompts are more open-ended and can give you creative answers, while one-shot and few-shot prompts teach the model how to behave so you can get more predictable answers that are consistent with the examples provided."
      ]
    }
  ],
  "metadata": {
    "colab": {
      "toc_visible": true,
      "provenance": []
    },
    "kernelspec": {
      "display_name": "Python 3",
      "name": "python3"
    }
  },
  "nbformat": 4,
  "nbformat_minor": 0
}